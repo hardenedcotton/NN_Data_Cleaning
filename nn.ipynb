{
 "cells": [
  {
   "attachments": {},
   "cell_type": "markdown",
   "metadata": {},
   "source": [
    "# Competition\n",
    "\n",
    "[Kaggle Link](https://www.kaggle.com/competitions/tabular-playground-series-mar-2022/data)\n",
    "\n",
    "# Tanım\n",
    "\n",
    "- Tarih verilmiş\n",
    "- x, y verilmiş \n",
    "- yön verilmiş\n",
    "- trafik verilmiş/isteniyor\n",
    "  \n",
    "# Preprocessing\n",
    "\n",
    "- Yön verisini One-Hot yapmak\n",
    "- NaN yok\n",
    "- Normalize bir veri\n",
    "- Time verisini kullanılabilecek bir hale getirmek\n",
    "  - Her 20 dakikayı ayırmak\n",
    "  - Her saati ayırmak\n",
    "  - Her günü ayırmak\n",
    "  - Gün verisinden kurtulup sadece veri üstünde çalışmak\n",
    "  \n",
    "# Gruplar\n",
    "\n",
    "## Preprocessing\n",
    "\n",
    "- Ayfer Sinem Çoban\n",
    "- Onur Ümit Şener\n",
    "  \n",
    "## Modelling\n",
    "\n",
    "- Ata Güneş\n",
    "- Mertcan Duran\n",
    "- Oğulcan Akca\n",
    "  \n",
    "## Presentation\n",
    "\n",
    "- Başak Topçuoğlu\n",
    "- Saitcan Yıldırım\n"
   ]
  },
  {
   "attachments": {},
   "cell_type": "markdown",
   "metadata": {},
   "source": [
    "# Code"
   ]
  },
  {
   "attachments": {},
   "cell_type": "markdown",
   "metadata": {},
   "source": [
    "## Imports"
   ]
  },
  {
   "cell_type": "code",
   "execution_count": 103,
   "metadata": {},
   "outputs": [],
   "source": [
    "import pandas as pd"
   ]
  },
  {
   "attachments": {},
   "cell_type": "markdown",
   "metadata": {},
   "source": [
    "## Data Init"
   ]
  },
  {
   "cell_type": "code",
   "execution_count": 104,
   "metadata": {},
   "outputs": [],
   "source": [
    "raw_data = pd.read_csv('train.csv')\n",
    "TOTAL_ROWS = raw_data.shape[0]"
   ]
  },
  {
   "attachments": {},
   "cell_type": "markdown",
   "metadata": {},
   "source": [
    "## Datetime Conversion\n"
   ]
  },
  {
   "cell_type": "code",
   "execution_count": 105,
   "metadata": {},
   "outputs": [],
   "source": [
    "raw_data['time'] = pd.to_datetime(raw_data['time'])"
   ]
  },
  {
   "cell_type": "code",
   "execution_count": 106,
   "metadata": {},
   "outputs": [],
   "source": [
    "df = raw_data.drop('row_id', axis=1).copy()"
   ]
  },
  {
   "attachments": {},
   "cell_type": "markdown",
   "metadata": {},
   "source": [
    "## Adding Hours, Minutes, Months"
   ]
  },
  {
   "cell_type": "code",
   "execution_count": 107,
   "metadata": {},
   "outputs": [],
   "source": [
    "hours_list = []\n",
    "minutes_list = []\n",
    "month_list = []\n",
    "season_list = []\n",
    "for t in df['time']:\n",
    "    hours_list.append(t.hour)\n",
    "    minutes_list.append(t.minute // 20)\n",
    "    month_list.append(t.month)\n"
   ]
  },
  {
   "cell_type": "code",
   "execution_count": 108,
   "metadata": {},
   "outputs": [],
   "source": [
    "time_df = pd.DataFrame({'hours': hours_list,\n",
    "                        'minutes': minutes_list,\n",
    "                        'month': month_list,\n",
    "                        })\n",
    "df = pd.concat([df, time_df], axis=1)"
   ]
  },
  {
   "cell_type": "code",
   "execution_count": 109,
   "metadata": {},
   "outputs": [],
   "source": [
    "df = df[['time', 'hours', 'minutes', 'month', 'x', 'y', 'direction', 'congestion']]"
   ]
  },
  {
   "cell_type": "code",
   "execution_count": 110,
   "metadata": {},
   "outputs": [
    {
     "data": {
      "text/html": [
       "<div>\n",
       "<style scoped>\n",
       "    .dataframe tbody tr th:only-of-type {\n",
       "        vertical-align: middle;\n",
       "    }\n",
       "\n",
       "    .dataframe tbody tr th {\n",
       "        vertical-align: top;\n",
       "    }\n",
       "\n",
       "    .dataframe thead th {\n",
       "        text-align: right;\n",
       "    }\n",
       "</style>\n",
       "<table border=\"1\" class=\"dataframe\">\n",
       "  <thead>\n",
       "    <tr style=\"text-align: right;\">\n",
       "      <th></th>\n",
       "      <th>time</th>\n",
       "      <th>hours</th>\n",
       "      <th>minutes</th>\n",
       "      <th>month</th>\n",
       "      <th>x</th>\n",
       "      <th>y</th>\n",
       "      <th>direction</th>\n",
       "      <th>congestion</th>\n",
       "    </tr>\n",
       "  </thead>\n",
       "  <tbody>\n",
       "    <tr>\n",
       "      <th>393355</th>\n",
       "      <td>1991-06-24 07:40:00</td>\n",
       "      <td>7</td>\n",
       "      <td>2</td>\n",
       "      <td>6</td>\n",
       "      <td>2</td>\n",
       "      <td>0</td>\n",
       "      <td>NB</td>\n",
       "      <td>69</td>\n",
       "    </tr>\n",
       "    <tr>\n",
       "      <th>574980</th>\n",
       "      <td>1991-08-02 04:00:00</td>\n",
       "      <td>4</td>\n",
       "      <td>0</td>\n",
       "      <td>8</td>\n",
       "      <td>2</td>\n",
       "      <td>2</td>\n",
       "      <td>SB</td>\n",
       "      <td>43</td>\n",
       "    </tr>\n",
       "    <tr>\n",
       "      <th>791208</th>\n",
       "      <td>1991-09-17 21:20:00</td>\n",
       "      <td>21</td>\n",
       "      <td>1</td>\n",
       "      <td>9</td>\n",
       "      <td>1</td>\n",
       "      <td>2</td>\n",
       "      <td>NB</td>\n",
       "      <td>49</td>\n",
       "    </tr>\n",
       "    <tr>\n",
       "      <th>149766</th>\n",
       "      <td>1991-05-03 02:40:00</td>\n",
       "      <td>2</td>\n",
       "      <td>2</td>\n",
       "      <td>5</td>\n",
       "      <td>0</td>\n",
       "      <td>1</td>\n",
       "      <td>WB</td>\n",
       "      <td>49</td>\n",
       "    </tr>\n",
       "    <tr>\n",
       "      <th>639392</th>\n",
       "      <td>1991-08-15 23:00:00</td>\n",
       "      <td>23</td>\n",
       "      <td>0</td>\n",
       "      <td>8</td>\n",
       "      <td>2</td>\n",
       "      <td>2</td>\n",
       "      <td>NB</td>\n",
       "      <td>55</td>\n",
       "    </tr>\n",
       "  </tbody>\n",
       "</table>\n",
       "</div>"
      ],
      "text/plain": [
       "                      time  hours  minutes  month  x  y direction  congestion\n",
       "393355 1991-06-24 07:40:00      7        2      6  2  0        NB          69\n",
       "574980 1991-08-02 04:00:00      4        0      8  2  2        SB          43\n",
       "791208 1991-09-17 21:20:00     21        1      9  1  2        NB          49\n",
       "149766 1991-05-03 02:40:00      2        2      5  0  1        WB          49\n",
       "639392 1991-08-15 23:00:00     23        0      8  2  2        NB          55"
      ]
     },
     "execution_count": 110,
     "metadata": {},
     "output_type": "execute_result"
    }
   ],
   "source": [
    "df.sample(5)"
   ]
  },
  {
   "attachments": {},
   "cell_type": "markdown",
   "metadata": {},
   "source": [
    "### Adding Days"
   ]
  },
  {
   "cell_type": "code",
   "execution_count": 111,
   "metadata": {},
   "outputs": [],
   "source": [
    "weekdays = (\"Monday\", \"Tuesday\", \"Wednesday\", \"Thursday\", \"Friday\", \"Saturday\", \"Sunday\")\n",
    "days = {}\n",
    "days_list = [None] * TOTAL_ROWS\n",
    "for i in range(7):\n",
    "    days[i] = range(i, TOTAL_ROWS, 7)\n",
    "for j in range(7):   \n",
    "    for k in days[j]:\n",
    "        days_list[k] = weekdays[j]\n",
    "df.insert(1, 'days', days_list)"
   ]
  },
  {
   "cell_type": "code",
   "execution_count": 112,
   "metadata": {},
   "outputs": [
    {
     "data": {
      "text/html": [
       "<div>\n",
       "<style scoped>\n",
       "    .dataframe tbody tr th:only-of-type {\n",
       "        vertical-align: middle;\n",
       "    }\n",
       "\n",
       "    .dataframe tbody tr th {\n",
       "        vertical-align: top;\n",
       "    }\n",
       "\n",
       "    .dataframe thead th {\n",
       "        text-align: right;\n",
       "    }\n",
       "</style>\n",
       "<table border=\"1\" class=\"dataframe\">\n",
       "  <thead>\n",
       "    <tr style=\"text-align: right;\">\n",
       "      <th></th>\n",
       "      <th>time</th>\n",
       "      <th>days</th>\n",
       "      <th>hours</th>\n",
       "      <th>minutes</th>\n",
       "      <th>month</th>\n",
       "      <th>x</th>\n",
       "      <th>y</th>\n",
       "      <th>direction</th>\n",
       "      <th>congestion</th>\n",
       "    </tr>\n",
       "  </thead>\n",
       "  <tbody>\n",
       "    <tr>\n",
       "      <th>792714</th>\n",
       "      <td>1991-09-18 05:00:00</td>\n",
       "      <td>Sunday</td>\n",
       "      <td>5</td>\n",
       "      <td>0</td>\n",
       "      <td>9</td>\n",
       "      <td>2</td>\n",
       "      <td>0</td>\n",
       "      <td>EB</td>\n",
       "      <td>63</td>\n",
       "    </tr>\n",
       "    <tr>\n",
       "      <th>211553</th>\n",
       "      <td>1991-05-16 09:20:00</td>\n",
       "      <td>Sunday</td>\n",
       "      <td>9</td>\n",
       "      <td>1</td>\n",
       "      <td>5</td>\n",
       "      <td>2</td>\n",
       "      <td>1</td>\n",
       "      <td>EB</td>\n",
       "      <td>69</td>\n",
       "    </tr>\n",
       "    <tr>\n",
       "      <th>499140</th>\n",
       "      <td>1991-07-16 22:20:00</td>\n",
       "      <td>Saturday</td>\n",
       "      <td>22</td>\n",
       "      <td>1</td>\n",
       "      <td>7</td>\n",
       "      <td>0</td>\n",
       "      <td>1</td>\n",
       "      <td>SB</td>\n",
       "      <td>56</td>\n",
       "    </tr>\n",
       "    <tr>\n",
       "      <th>11832</th>\n",
       "      <td>1991-04-03 12:40:00</td>\n",
       "      <td>Wednesday</td>\n",
       "      <td>12</td>\n",
       "      <td>2</td>\n",
       "      <td>4</td>\n",
       "      <td>0</td>\n",
       "      <td>0</td>\n",
       "      <td>SB</td>\n",
       "      <td>54</td>\n",
       "    </tr>\n",
       "    <tr>\n",
       "      <th>757432</th>\n",
       "      <td>1991-09-10 11:00:00</td>\n",
       "      <td>Friday</td>\n",
       "      <td>11</td>\n",
       "      <td>0</td>\n",
       "      <td>9</td>\n",
       "      <td>2</td>\n",
       "      <td>2</td>\n",
       "      <td>NB</td>\n",
       "      <td>55</td>\n",
       "    </tr>\n",
       "  </tbody>\n",
       "</table>\n",
       "</div>"
      ],
      "text/plain": [
       "                      time       days  hours  minutes  month  x  y direction   \n",
       "792714 1991-09-18 05:00:00     Sunday      5        0      9  2  0        EB  \\\n",
       "211553 1991-05-16 09:20:00     Sunday      9        1      5  2  1        EB   \n",
       "499140 1991-07-16 22:20:00   Saturday     22        1      7  0  1        SB   \n",
       "11832  1991-04-03 12:40:00  Wednesday     12        2      4  0  0        SB   \n",
       "757432 1991-09-10 11:00:00     Friday     11        0      9  2  2        NB   \n",
       "\n",
       "        congestion  \n",
       "792714          63  \n",
       "211553          69  \n",
       "499140          56  \n",
       "11832           54  \n",
       "757432          55  "
      ]
     },
     "execution_count": 112,
     "metadata": {},
     "output_type": "execute_result"
    }
   ],
   "source": [
    "df.sample(5)"
   ]
  },
  {
   "attachments": {},
   "cell_type": "markdown",
   "metadata": {},
   "source": [
    "## One-Hot"
   ]
  },
  {
   "cell_type": "code",
   "execution_count": 113,
   "metadata": {},
   "outputs": [],
   "source": [
    "# df_oh['time'].str.get_dummies(' ') # Another method for one-hot, might be useful"
   ]
  },
  {
   "cell_type": "code",
   "execution_count": 114,
   "metadata": {},
   "outputs": [],
   "source": [
    "df_oh = pd.get_dummies(df, dtype=int)"
   ]
  },
  {
   "cell_type": "code",
   "execution_count": 115,
   "metadata": {},
   "outputs": [],
   "source": [
    "int_cols = ['minutes' ,'month', 'x', 'y']\n",
    "int_df = pd.get_dummies(df, columns=int_cols, dtype=int)\n",
    "df_oh = pd.concat([df_oh, int_df.iloc[:,5:]], axis=1)"
   ]
  },
  {
   "cell_type": "code",
   "execution_count": 116,
   "metadata": {},
   "outputs": [
    {
     "data": {
      "text/html": [
       "<div>\n",
       "<style scoped>\n",
       "    .dataframe tbody tr th:only-of-type {\n",
       "        vertical-align: middle;\n",
       "    }\n",
       "\n",
       "    .dataframe tbody tr th {\n",
       "        vertical-align: top;\n",
       "    }\n",
       "\n",
       "    .dataframe thead th {\n",
       "        text-align: right;\n",
       "    }\n",
       "</style>\n",
       "<table border=\"1\" class=\"dataframe\">\n",
       "  <thead>\n",
       "    <tr style=\"text-align: right;\">\n",
       "      <th></th>\n",
       "      <th>time</th>\n",
       "      <th>hours</th>\n",
       "      <th>minutes</th>\n",
       "      <th>month</th>\n",
       "      <th>x</th>\n",
       "      <th>y</th>\n",
       "      <th>congestion</th>\n",
       "      <th>days_Friday</th>\n",
       "      <th>days_Monday</th>\n",
       "      <th>days_Saturday</th>\n",
       "      <th>...</th>\n",
       "      <th>month_7</th>\n",
       "      <th>month_8</th>\n",
       "      <th>month_9</th>\n",
       "      <th>x_0</th>\n",
       "      <th>x_1</th>\n",
       "      <th>x_2</th>\n",
       "      <th>y_0</th>\n",
       "      <th>y_1</th>\n",
       "      <th>y_2</th>\n",
       "      <th>y_3</th>\n",
       "    </tr>\n",
       "  </thead>\n",
       "  <tbody>\n",
       "    <tr>\n",
       "      <th>487960</th>\n",
       "      <td>1991-07-14 13:00:00</td>\n",
       "      <td>13</td>\n",
       "      <td>0</td>\n",
       "      <td>7</td>\n",
       "      <td>0</td>\n",
       "      <td>1</td>\n",
       "      <td>58</td>\n",
       "      <td>1</td>\n",
       "      <td>0</td>\n",
       "      <td>0</td>\n",
       "      <td>...</td>\n",
       "      <td>1</td>\n",
       "      <td>0</td>\n",
       "      <td>0</td>\n",
       "      <td>1</td>\n",
       "      <td>0</td>\n",
       "      <td>0</td>\n",
       "      <td>0</td>\n",
       "      <td>1</td>\n",
       "      <td>0</td>\n",
       "      <td>0</td>\n",
       "    </tr>\n",
       "    <tr>\n",
       "      <th>839082</th>\n",
       "      <td>1991-09-28 09:40:00</td>\n",
       "      <td>9</td>\n",
       "      <td>2</td>\n",
       "      <td>9</td>\n",
       "      <td>2</td>\n",
       "      <td>3</td>\n",
       "      <td>70</td>\n",
       "      <td>0</td>\n",
       "      <td>0</td>\n",
       "      <td>0</td>\n",
       "      <td>...</td>\n",
       "      <td>0</td>\n",
       "      <td>0</td>\n",
       "      <td>1</td>\n",
       "      <td>0</td>\n",
       "      <td>0</td>\n",
       "      <td>1</td>\n",
       "      <td>0</td>\n",
       "      <td>0</td>\n",
       "      <td>0</td>\n",
       "      <td>1</td>\n",
       "    </tr>\n",
       "    <tr>\n",
       "      <th>240335</th>\n",
       "      <td>1991-05-22 13:20:00</td>\n",
       "      <td>13</td>\n",
       "      <td>1</td>\n",
       "      <td>5</td>\n",
       "      <td>1</td>\n",
       "      <td>2</td>\n",
       "      <td>58</td>\n",
       "      <td>1</td>\n",
       "      <td>0</td>\n",
       "      <td>0</td>\n",
       "      <td>...</td>\n",
       "      <td>0</td>\n",
       "      <td>0</td>\n",
       "      <td>0</td>\n",
       "      <td>0</td>\n",
       "      <td>1</td>\n",
       "      <td>0</td>\n",
       "      <td>0</td>\n",
       "      <td>0</td>\n",
       "      <td>1</td>\n",
       "      <td>0</td>\n",
       "    </tr>\n",
       "    <tr>\n",
       "      <th>374051</th>\n",
       "      <td>1991-06-20 04:40:00</td>\n",
       "      <td>4</td>\n",
       "      <td>2</td>\n",
       "      <td>6</td>\n",
       "      <td>2</td>\n",
       "      <td>0</td>\n",
       "      <td>40</td>\n",
       "      <td>0</td>\n",
       "      <td>0</td>\n",
       "      <td>0</td>\n",
       "      <td>...</td>\n",
       "      <td>0</td>\n",
       "      <td>0</td>\n",
       "      <td>0</td>\n",
       "      <td>0</td>\n",
       "      <td>0</td>\n",
       "      <td>1</td>\n",
       "      <td>1</td>\n",
       "      <td>0</td>\n",
       "      <td>0</td>\n",
       "      <td>0</td>\n",
       "    </tr>\n",
       "    <tr>\n",
       "      <th>532559</th>\n",
       "      <td>1991-07-24 02:40:00</td>\n",
       "      <td>2</td>\n",
       "      <td>2</td>\n",
       "      <td>7</td>\n",
       "      <td>0</td>\n",
       "      <td>3</td>\n",
       "      <td>12</td>\n",
       "      <td>0</td>\n",
       "      <td>0</td>\n",
       "      <td>0</td>\n",
       "      <td>...</td>\n",
       "      <td>1</td>\n",
       "      <td>0</td>\n",
       "      <td>0</td>\n",
       "      <td>1</td>\n",
       "      <td>0</td>\n",
       "      <td>0</td>\n",
       "      <td>0</td>\n",
       "      <td>0</td>\n",
       "      <td>0</td>\n",
       "      <td>1</td>\n",
       "    </tr>\n",
       "  </tbody>\n",
       "</table>\n",
       "<p>5 rows × 38 columns</p>\n",
       "</div>"
      ],
      "text/plain": [
       "                      time  hours  minutes  month  x  y  congestion   \n",
       "487960 1991-07-14 13:00:00     13        0      7  0  1          58  \\\n",
       "839082 1991-09-28 09:40:00      9        2      9  2  3          70   \n",
       "240335 1991-05-22 13:20:00     13        1      5  1  2          58   \n",
       "374051 1991-06-20 04:40:00      4        2      6  2  0          40   \n",
       "532559 1991-07-24 02:40:00      2        2      7  0  3          12   \n",
       "\n",
       "        days_Friday  days_Monday  days_Saturday  ...  month_7  month_8   \n",
       "487960            1            0              0  ...        1        0  \\\n",
       "839082            0            0              0  ...        0        0   \n",
       "240335            1            0              0  ...        0        0   \n",
       "374051            0            0              0  ...        0        0   \n",
       "532559            0            0              0  ...        1        0   \n",
       "\n",
       "        month_9  x_0  x_1  x_2  y_0  y_1  y_2  y_3  \n",
       "487960        0    1    0    0    0    1    0    0  \n",
       "839082        1    0    0    1    0    0    0    1  \n",
       "240335        0    0    1    0    0    0    1    0  \n",
       "374051        0    0    0    1    1    0    0    0  \n",
       "532559        0    1    0    0    0    0    0    1  \n",
       "\n",
       "[5 rows x 38 columns]"
      ]
     },
     "execution_count": 116,
     "metadata": {},
     "output_type": "execute_result"
    }
   ],
   "source": [
    "df_oh.sample(5)"
   ]
  },
  {
   "attachments": {},
   "cell_type": "markdown",
   "metadata": {},
   "source": [
    "# Model DataFrame"
   ]
  },
  {
   "cell_type": "code",
   "execution_count": 117,
   "metadata": {},
   "outputs": [],
   "source": [
    "model_df = df_oh.copy()\n",
    "model_df = model_df.iloc[:,6:]"
   ]
  },
  {
   "cell_type": "code",
   "execution_count": 118,
   "metadata": {},
   "outputs": [
    {
     "name": "stdout",
     "output_type": "stream",
     "text": [
      "['congestion' 'days_Friday' 'days_Monday' 'days_Saturday' 'days_Sunday'\n",
      " 'days_Thursday' 'days_Tuesday' 'days_Wednesday' 'direction_EB'\n",
      " 'direction_NB' 'direction_NE' 'direction_NW' 'direction_SB'\n",
      " 'direction_SE' 'direction_SW' 'direction_WB' 'minutes_0' 'minutes_1'\n",
      " 'minutes_2' 'month_4' 'month_5' 'month_6' 'month_7' 'month_8' 'month_9'\n",
      " 'x_0' 'x_1' 'x_2' 'y_0' 'y_1' 'y_2' 'y_3']\n"
     ]
    }
   ],
   "source": [
    "print(model_df.columns.values)"
   ]
  },
  {
   "attachments": {},
   "cell_type": "markdown",
   "metadata": {},
   "source": [
    "# Export\n",
    "\n",
    "Run this code to get the _.csv_ of the result"
   ]
  },
  {
   "cell_type": "code",
   "execution_count": 119,
   "metadata": {},
   "outputs": [],
   "source": [
    "# model_df.to_csv('df.csv')"
   ]
  }
 ],
 "metadata": {
  "kernelspec": {
   "display_name": "Python 3",
   "language": "python",
   "name": "python3"
  },
  "language_info": {
   "codemirror_mode": {
    "name": "ipython",
    "version": 3
   },
   "file_extension": ".py",
   "mimetype": "text/x-python",
   "name": "python",
   "nbconvert_exporter": "python",
   "pygments_lexer": "ipython3",
   "version": "3.11.1"
  },
  "orig_nbformat": 4
 },
 "nbformat": 4,
 "nbformat_minor": 2
}

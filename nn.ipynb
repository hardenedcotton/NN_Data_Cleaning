{
 "cells": [
  {
   "attachments": {},
   "cell_type": "markdown",
   "metadata": {},
   "source": [
    "# Competition\n",
    "\n",
    "[Kaggle Link](https://www.kaggle.com/competitions/tabular-playground-series-mar-2022/data)\n",
    "\n",
    "# Tanım\n",
    "\n",
    "- Tarih verilmiş\n",
    "- x, y verilmiş \n",
    "- yön verilmiş\n",
    "- trafik verilmiş/isteniyor\n",
    "  \n",
    "# Preprocessing\n",
    "\n",
    "- Yön verisini One-Hot yapmak\n",
    "- NaN yok\n",
    "- Normalize bir veri\n",
    "- Time verisini kullanılabilecek bir hale getirmek\n",
    "  - Her 20 dakikayı ayırmak\n",
    "  - Her saati ayırmak\n",
    "  - Her günü ayırmak\n",
    "  - Gün verisinden kurtulup sadece veri üstünde çalışmak\n",
    "  \n",
    "# Gruplar\n",
    "\n",
    "## Preprocessing\n",
    "\n",
    "- Ayfer Sinem Çoban\n",
    "- Onur Ümit Şener\n",
    "  \n",
    "## Modelling\n",
    "\n",
    "- Ata Güneş\n",
    "- Mertcan Duran\n",
    "- Oğulcan Akca\n",
    "  \n",
    "## Presentation\n",
    "\n",
    "- Başak Topçuoğlu\n",
    "- Saitcan Yıldırım\n"
   ]
  },
  {
   "attachments": {},
   "cell_type": "markdown",
   "metadata": {},
   "source": [
    "# Code"
   ]
  },
  {
   "attachments": {},
   "cell_type": "markdown",
   "metadata": {},
   "source": [
    "## Imports"
   ]
  },
  {
   "cell_type": "code",
   "execution_count": 96,
   "metadata": {},
   "outputs": [],
   "source": [
    "import pandas as pd"
   ]
  },
  {
   "attachments": {},
   "cell_type": "markdown",
   "metadata": {},
   "source": [
    "## Data Init"
   ]
  },
  {
   "cell_type": "code",
   "execution_count": 41,
   "metadata": {},
   "outputs": [],
   "source": [
    "raw_data = pd.read_csv('train.csv')"
   ]
  },
  {
   "cell_type": "code",
   "execution_count": 42,
   "metadata": {},
   "outputs": [],
   "source": [
    "INTERVAL_20_MINUTES = 65\n",
    "INTERVAL_HOUR = 260\n",
    "INTERVAL_DAY = 4680\n",
    "INTERVAL_WEEK = 32760\n",
    "TOTAL_ROWS = raw_data.shape[0]\n",
    "INTERVALS = (INTERVAL_20_MINUTES,\n",
    "             INTERVAL_HOUR,\n",
    "             INTERVAL_DAY,\n",
    "             INTERVAL_WEEK\n",
    "             )"
   ]
  },
  {
   "attachments": {},
   "cell_type": "markdown",
   "metadata": {},
   "source": [
    "## Datetime Conversion\n"
   ]
  },
  {
   "cell_type": "code",
   "execution_count": 43,
   "metadata": {},
   "outputs": [],
   "source": [
    "raw_data['time'] = pd.to_datetime(raw_data['time'])"
   ]
  },
  {
   "cell_type": "code",
   "execution_count": 44,
   "metadata": {},
   "outputs": [],
   "source": [
    "df = raw_data.drop('row_id', axis=1).copy()"
   ]
  },
  {
   "attachments": {},
   "cell_type": "markdown",
   "metadata": {},
   "source": [
    "## Adding Hours, Minutes, Months"
   ]
  },
  {
   "cell_type": "code",
   "execution_count": 45,
   "metadata": {},
   "outputs": [],
   "source": [
    "hours_list = []\n",
    "minutes_list = []\n",
    "month_list = []\n",
    "season_list = []\n",
    "for t in df['time']:\n",
    "    hours_list.append(t.hour)\n",
    "    minutes_list.append(t.minute // 20)\n",
    "    month_list.append(t.month)\n"
   ]
  },
  {
   "cell_type": "code",
   "execution_count": 46,
   "metadata": {},
   "outputs": [],
   "source": [
    "time_df = pd.DataFrame({'hours': hours_list,\n",
    "                        'minutes': minutes_list,\n",
    "                        'month': month_list,\n",
    "                        })\n",
    "df = pd.concat([df, time_df], axis=1)"
   ]
  },
  {
   "cell_type": "code",
   "execution_count": 47,
   "metadata": {},
   "outputs": [],
   "source": [
    "df = df[['time', 'hours', 'minutes', 'month', 'x', 'y', 'direction', 'congestion']]"
   ]
  },
  {
   "cell_type": "code",
   "execution_count": 48,
   "metadata": {},
   "outputs": [
    {
     "data": {
      "text/html": [
       "<div>\n",
       "<style scoped>\n",
       "    .dataframe tbody tr th:only-of-type {\n",
       "        vertical-align: middle;\n",
       "    }\n",
       "\n",
       "    .dataframe tbody tr th {\n",
       "        vertical-align: top;\n",
       "    }\n",
       "\n",
       "    .dataframe thead th {\n",
       "        text-align: right;\n",
       "    }\n",
       "</style>\n",
       "<table border=\"1\" class=\"dataframe\">\n",
       "  <thead>\n",
       "    <tr style=\"text-align: right;\">\n",
       "      <th></th>\n",
       "      <th>time</th>\n",
       "      <th>hours</th>\n",
       "      <th>minutes</th>\n",
       "      <th>month</th>\n",
       "      <th>x</th>\n",
       "      <th>y</th>\n",
       "      <th>direction</th>\n",
       "      <th>congestion</th>\n",
       "    </tr>\n",
       "  </thead>\n",
       "  <tbody>\n",
       "    <tr>\n",
       "      <th>384551</th>\n",
       "      <td>1991-06-22 10:40:00</td>\n",
       "      <td>10</td>\n",
       "      <td>2</td>\n",
       "      <td>6</td>\n",
       "      <td>0</td>\n",
       "      <td>3</td>\n",
       "      <td>EB</td>\n",
       "      <td>29</td>\n",
       "    </tr>\n",
       "    <tr>\n",
       "      <th>382228</th>\n",
       "      <td>1991-06-21 22:40:00</td>\n",
       "      <td>22</td>\n",
       "      <td>2</td>\n",
       "      <td>6</td>\n",
       "      <td>1</td>\n",
       "      <td>2</td>\n",
       "      <td>NB</td>\n",
       "      <td>60</td>\n",
       "    </tr>\n",
       "    <tr>\n",
       "      <th>784377</th>\n",
       "      <td>1991-09-16 09:20:00</td>\n",
       "      <td>9</td>\n",
       "      <td>1</td>\n",
       "      <td>9</td>\n",
       "      <td>1</td>\n",
       "      <td>0</td>\n",
       "      <td>WB</td>\n",
       "      <td>32</td>\n",
       "    </tr>\n",
       "    <tr>\n",
       "      <th>211838</th>\n",
       "      <td>1991-05-16 11:00:00</td>\n",
       "      <td>11</td>\n",
       "      <td>0</td>\n",
       "      <td>5</td>\n",
       "      <td>0</td>\n",
       "      <td>1</td>\n",
       "      <td>EB</td>\n",
       "      <td>21</td>\n",
       "    </tr>\n",
       "    <tr>\n",
       "      <th>584101</th>\n",
       "      <td>1991-08-04 03:00:00</td>\n",
       "      <td>3</td>\n",
       "      <td>0</td>\n",
       "      <td>8</td>\n",
       "      <td>0</td>\n",
       "      <td>3</td>\n",
       "      <td>EB</td>\n",
       "      <td>33</td>\n",
       "    </tr>\n",
       "  </tbody>\n",
       "</table>\n",
       "</div>"
      ],
      "text/plain": [
       "                      time  hours  minutes  month  x  y direction  congestion\n",
       "384551 1991-06-22 10:40:00     10        2      6  0  3        EB          29\n",
       "382228 1991-06-21 22:40:00     22        2      6  1  2        NB          60\n",
       "784377 1991-09-16 09:20:00      9        1      9  1  0        WB          32\n",
       "211838 1991-05-16 11:00:00     11        0      5  0  1        EB          21\n",
       "584101 1991-08-04 03:00:00      3        0      8  0  3        EB          33"
      ]
     },
     "execution_count": 48,
     "metadata": {},
     "output_type": "execute_result"
    }
   ],
   "source": [
    "df.sample(5)"
   ]
  },
  {
   "attachments": {},
   "cell_type": "markdown",
   "metadata": {},
   "source": [
    "### Adding Days"
   ]
  },
  {
   "cell_type": "code",
   "execution_count": 49,
   "metadata": {},
   "outputs": [],
   "source": [
    "weekdays = (\"Monday\", \"Tuesday\", \"Wednesday\", \"Thursday\", \"Friday\", \"Saturday\", \"Sunday\")\n",
    "days = {}\n",
    "days_list = [None] * TOTAL_ROWS\n",
    "for i in range(7):\n",
    "    days[i] = range(i, TOTAL_ROWS, 7)\n",
    "for j in range(7):   \n",
    "    for k in days[j]:\n",
    "        days_list[k] = weekdays[j]\n",
    "df.insert(1, 'days', days_list)"
   ]
  },
  {
   "cell_type": "code",
   "execution_count": 50,
   "metadata": {},
   "outputs": [
    {
     "data": {
      "text/html": [
       "<div>\n",
       "<style scoped>\n",
       "    .dataframe tbody tr th:only-of-type {\n",
       "        vertical-align: middle;\n",
       "    }\n",
       "\n",
       "    .dataframe tbody tr th {\n",
       "        vertical-align: top;\n",
       "    }\n",
       "\n",
       "    .dataframe thead th {\n",
       "        text-align: right;\n",
       "    }\n",
       "</style>\n",
       "<table border=\"1\" class=\"dataframe\">\n",
       "  <thead>\n",
       "    <tr style=\"text-align: right;\">\n",
       "      <th></th>\n",
       "      <th>time</th>\n",
       "      <th>days</th>\n",
       "      <th>hours</th>\n",
       "      <th>minutes</th>\n",
       "      <th>month</th>\n",
       "      <th>x</th>\n",
       "      <th>y</th>\n",
       "      <th>direction</th>\n",
       "      <th>congestion</th>\n",
       "    </tr>\n",
       "  </thead>\n",
       "  <tbody>\n",
       "    <tr>\n",
       "      <th>765863</th>\n",
       "      <td>1991-09-12 08:20:00</td>\n",
       "      <td>Monday</td>\n",
       "      <td>8</td>\n",
       "      <td>1</td>\n",
       "      <td>9</td>\n",
       "      <td>1</td>\n",
       "      <td>3</td>\n",
       "      <td>EB</td>\n",
       "      <td>26</td>\n",
       "    </tr>\n",
       "    <tr>\n",
       "      <th>248153</th>\n",
       "      <td>1991-05-24 05:20:00</td>\n",
       "      <td>Thursday</td>\n",
       "      <td>5</td>\n",
       "      <td>1</td>\n",
       "      <td>5</td>\n",
       "      <td>2</td>\n",
       "      <td>1</td>\n",
       "      <td>SE</td>\n",
       "      <td>34</td>\n",
       "    </tr>\n",
       "    <tr>\n",
       "      <th>828616</th>\n",
       "      <td>1991-09-26 04:00:00</td>\n",
       "      <td>Saturday</td>\n",
       "      <td>4</td>\n",
       "      <td>0</td>\n",
       "      <td>9</td>\n",
       "      <td>2</td>\n",
       "      <td>3</td>\n",
       "      <td>NE</td>\n",
       "      <td>33</td>\n",
       "    </tr>\n",
       "    <tr>\n",
       "      <th>831494</th>\n",
       "      <td>1991-09-26 19:00:00</td>\n",
       "      <td>Sunday</td>\n",
       "      <td>19</td>\n",
       "      <td>0</td>\n",
       "      <td>9</td>\n",
       "      <td>0</td>\n",
       "      <td>3</td>\n",
       "      <td>SB</td>\n",
       "      <td>60</td>\n",
       "    </tr>\n",
       "    <tr>\n",
       "      <th>256702</th>\n",
       "      <td>1991-05-26 01:20:00</td>\n",
       "      <td>Saturday</td>\n",
       "      <td>1</td>\n",
       "      <td>1</td>\n",
       "      <td>5</td>\n",
       "      <td>1</td>\n",
       "      <td>0</td>\n",
       "      <td>EB</td>\n",
       "      <td>39</td>\n",
       "    </tr>\n",
       "  </tbody>\n",
       "</table>\n",
       "</div>"
      ],
      "text/plain": [
       "                      time      days  hours  minutes  month  x  y direction   \n",
       "765863 1991-09-12 08:20:00    Monday      8        1      9  1  3        EB  \\\n",
       "248153 1991-05-24 05:20:00  Thursday      5        1      5  2  1        SE   \n",
       "828616 1991-09-26 04:00:00  Saturday      4        0      9  2  3        NE   \n",
       "831494 1991-09-26 19:00:00    Sunday     19        0      9  0  3        SB   \n",
       "256702 1991-05-26 01:20:00  Saturday      1        1      5  1  0        EB   \n",
       "\n",
       "        congestion  \n",
       "765863          26  \n",
       "248153          34  \n",
       "828616          33  \n",
       "831494          60  \n",
       "256702          39  "
      ]
     },
     "execution_count": 50,
     "metadata": {},
     "output_type": "execute_result"
    }
   ],
   "source": [
    "df.sample(5)"
   ]
  },
  {
   "attachments": {},
   "cell_type": "markdown",
   "metadata": {},
   "source": [
    "## One-Hot"
   ]
  },
  {
   "cell_type": "code",
   "execution_count": 51,
   "metadata": {},
   "outputs": [],
   "source": [
    "# df_oh['time'].str.get_dummies(' ') # Another method for one-hot, might be useful"
   ]
  },
  {
   "cell_type": "code",
   "execution_count": 78,
   "metadata": {},
   "outputs": [],
   "source": [
    "df_oh = pd.get_dummies(df, dtype=int)"
   ]
  },
  {
   "cell_type": "code",
   "execution_count": 79,
   "metadata": {},
   "outputs": [],
   "source": [
    "int_cols = ['minutes' ,'month', 'x', 'y']\n",
    "int_df = pd.get_dummies(df, columns=int_cols, dtype=int)\n",
    "df_oh = pd.concat([df_oh, int_df.iloc[:,5:]], axis=1)"
   ]
  },
  {
   "cell_type": "code",
   "execution_count": 80,
   "metadata": {},
   "outputs": [
    {
     "data": {
      "text/html": [
       "<div>\n",
       "<style scoped>\n",
       "    .dataframe tbody tr th:only-of-type {\n",
       "        vertical-align: middle;\n",
       "    }\n",
       "\n",
       "    .dataframe tbody tr th {\n",
       "        vertical-align: top;\n",
       "    }\n",
       "\n",
       "    .dataframe thead th {\n",
       "        text-align: right;\n",
       "    }\n",
       "</style>\n",
       "<table border=\"1\" class=\"dataframe\">\n",
       "  <thead>\n",
       "    <tr style=\"text-align: right;\">\n",
       "      <th></th>\n",
       "      <th>time</th>\n",
       "      <th>hours</th>\n",
       "      <th>minutes</th>\n",
       "      <th>month</th>\n",
       "      <th>x</th>\n",
       "      <th>y</th>\n",
       "      <th>congestion</th>\n",
       "      <th>days_Friday</th>\n",
       "      <th>days_Monday</th>\n",
       "      <th>days_Saturday</th>\n",
       "      <th>...</th>\n",
       "      <th>month_7</th>\n",
       "      <th>month_8</th>\n",
       "      <th>month_9</th>\n",
       "      <th>x_0</th>\n",
       "      <th>x_1</th>\n",
       "      <th>x_2</th>\n",
       "      <th>y_0</th>\n",
       "      <th>y_1</th>\n",
       "      <th>y_2</th>\n",
       "      <th>y_3</th>\n",
       "    </tr>\n",
       "  </thead>\n",
       "  <tbody>\n",
       "    <tr>\n",
       "      <th>790156</th>\n",
       "      <td>1991-09-17 16:00:00</td>\n",
       "      <td>16</td>\n",
       "      <td>0</td>\n",
       "      <td>9</td>\n",
       "      <td>0</td>\n",
       "      <td>3</td>\n",
       "      <td>44</td>\n",
       "      <td>0</td>\n",
       "      <td>0</td>\n",
       "      <td>0</td>\n",
       "      <td>...</td>\n",
       "      <td>0</td>\n",
       "      <td>0</td>\n",
       "      <td>1</td>\n",
       "      <td>1</td>\n",
       "      <td>0</td>\n",
       "      <td>0</td>\n",
       "      <td>0</td>\n",
       "      <td>0</td>\n",
       "      <td>0</td>\n",
       "      <td>1</td>\n",
       "    </tr>\n",
       "    <tr>\n",
       "      <th>27586</th>\n",
       "      <td>1991-04-06 21:20:00</td>\n",
       "      <td>21</td>\n",
       "      <td>1</td>\n",
       "      <td>4</td>\n",
       "      <td>1</td>\n",
       "      <td>1</td>\n",
       "      <td>56</td>\n",
       "      <td>0</td>\n",
       "      <td>0</td>\n",
       "      <td>0</td>\n",
       "      <td>...</td>\n",
       "      <td>0</td>\n",
       "      <td>0</td>\n",
       "      <td>0</td>\n",
       "      <td>0</td>\n",
       "      <td>1</td>\n",
       "      <td>0</td>\n",
       "      <td>0</td>\n",
       "      <td>1</td>\n",
       "      <td>0</td>\n",
       "      <td>0</td>\n",
       "    </tr>\n",
       "    <tr>\n",
       "      <th>28038</th>\n",
       "      <td>1991-04-06 23:40:00</td>\n",
       "      <td>23</td>\n",
       "      <td>2</td>\n",
       "      <td>4</td>\n",
       "      <td>1</td>\n",
       "      <td>1</td>\n",
       "      <td>52</td>\n",
       "      <td>0</td>\n",
       "      <td>0</td>\n",
       "      <td>0</td>\n",
       "      <td>...</td>\n",
       "      <td>0</td>\n",
       "      <td>0</td>\n",
       "      <td>0</td>\n",
       "      <td>0</td>\n",
       "      <td>1</td>\n",
       "      <td>0</td>\n",
       "      <td>0</td>\n",
       "      <td>1</td>\n",
       "      <td>0</td>\n",
       "      <td>0</td>\n",
       "    </tr>\n",
       "    <tr>\n",
       "      <th>821659</th>\n",
       "      <td>1991-09-24 16:20:00</td>\n",
       "      <td>16</td>\n",
       "      <td>1</td>\n",
       "      <td>9</td>\n",
       "      <td>2</td>\n",
       "      <td>3</td>\n",
       "      <td>36</td>\n",
       "      <td>0</td>\n",
       "      <td>0</td>\n",
       "      <td>0</td>\n",
       "      <td>...</td>\n",
       "      <td>0</td>\n",
       "      <td>0</td>\n",
       "      <td>1</td>\n",
       "      <td>0</td>\n",
       "      <td>0</td>\n",
       "      <td>1</td>\n",
       "      <td>0</td>\n",
       "      <td>0</td>\n",
       "      <td>0</td>\n",
       "      <td>1</td>\n",
       "    </tr>\n",
       "    <tr>\n",
       "      <th>510740</th>\n",
       "      <td>1991-07-19 10:00:00</td>\n",
       "      <td>10</td>\n",
       "      <td>0</td>\n",
       "      <td>7</td>\n",
       "      <td>1</td>\n",
       "      <td>3</td>\n",
       "      <td>84</td>\n",
       "      <td>0</td>\n",
       "      <td>0</td>\n",
       "      <td>0</td>\n",
       "      <td>...</td>\n",
       "      <td>1</td>\n",
       "      <td>0</td>\n",
       "      <td>0</td>\n",
       "      <td>0</td>\n",
       "      <td>1</td>\n",
       "      <td>0</td>\n",
       "      <td>0</td>\n",
       "      <td>0</td>\n",
       "      <td>0</td>\n",
       "      <td>1</td>\n",
       "    </tr>\n",
       "  </tbody>\n",
       "</table>\n",
       "<p>5 rows × 38 columns</p>\n",
       "</div>"
      ],
      "text/plain": [
       "                      time  hours  minutes  month  x  y  congestion   \n",
       "790156 1991-09-17 16:00:00     16        0      9  0  3          44  \\\n",
       "27586  1991-04-06 21:20:00     21        1      4  1  1          56   \n",
       "28038  1991-04-06 23:40:00     23        2      4  1  1          52   \n",
       "821659 1991-09-24 16:20:00     16        1      9  2  3          36   \n",
       "510740 1991-07-19 10:00:00     10        0      7  1  3          84   \n",
       "\n",
       "        days_Friday  days_Monday  days_Saturday  ...  month_7  month_8   \n",
       "790156            0            0              0  ...        0        0  \\\n",
       "27586             0            0              0  ...        0        0   \n",
       "28038             0            0              0  ...        0        0   \n",
       "821659            0            0              0  ...        0        0   \n",
       "510740            0            0              0  ...        1        0   \n",
       "\n",
       "        month_9  x_0  x_1  x_2  y_0  y_1  y_2  y_3  \n",
       "790156        1    1    0    0    0    0    0    1  \n",
       "27586         0    0    1    0    0    1    0    0  \n",
       "28038         0    0    1    0    0    1    0    0  \n",
       "821659        1    0    0    1    0    0    0    1  \n",
       "510740        0    0    1    0    0    0    0    1  \n",
       "\n",
       "[5 rows x 38 columns]"
      ]
     },
     "execution_count": 80,
     "metadata": {},
     "output_type": "execute_result"
    }
   ],
   "source": [
    "df_oh.sample(5)"
   ]
  },
  {
   "attachments": {},
   "cell_type": "markdown",
   "metadata": {},
   "source": [
    "# Model DataFrame"
   ]
  },
  {
   "cell_type": "code",
   "execution_count": 86,
   "metadata": {},
   "outputs": [],
   "source": [
    "model_df = df_oh.copy()\n",
    "model_df = model_df.iloc[:,6:]"
   ]
  },
  {
   "cell_type": "code",
   "execution_count": 97,
   "metadata": {},
   "outputs": [
    {
     "name": "stdout",
     "output_type": "stream",
     "text": [
      "['congestion' 'days_Friday' 'days_Monday' 'days_Saturday' 'days_Sunday'\n",
      " 'days_Thursday' 'days_Tuesday' 'days_Wednesday' 'direction_EB'\n",
      " 'direction_NB' 'direction_NE' 'direction_NW' 'direction_SB'\n",
      " 'direction_SE' 'direction_SW' 'direction_WB' 'minutes_0' 'minutes_1'\n",
      " 'minutes_2' 'month_4' 'month_5' 'month_6' 'month_7' 'month_8' 'month_9'\n",
      " 'x_0' 'x_1' 'x_2' 'y_0' 'y_1' 'y_2' 'y_3']\n"
     ]
    }
   ],
   "source": [
    "print(model_df.columns.values)"
   ]
  },
  {
   "attachments": {},
   "cell_type": "markdown",
   "metadata": {},
   "source": [
    "# Export\n",
    "\n",
    "Run this code to get the _.csv_ of the result"
   ]
  },
  {
   "cell_type": "code",
   "execution_count": 101,
   "metadata": {},
   "outputs": [],
   "source": [
    "model_df.to_csv('df.csv')"
   ]
  }
 ],
 "metadata": {
  "kernelspec": {
   "display_name": "Python 3",
   "language": "python",
   "name": "python3"
  },
  "language_info": {
   "codemirror_mode": {
    "name": "ipython",
    "version": 3
   },
   "file_extension": ".py",
   "mimetype": "text/x-python",
   "name": "python",
   "nbconvert_exporter": "python",
   "pygments_lexer": "ipython3",
   "version": "3.11.1"
  },
  "orig_nbformat": 4
 },
 "nbformat": 4,
 "nbformat_minor": 2
}
